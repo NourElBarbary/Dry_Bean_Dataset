{
 "cells": [
  {
   "cell_type": "code",
   "execution_count": 150,
   "metadata": {},
   "outputs": [],
   "source": [
    "import Adaline\n",
    "import Perceptron\n",
    "from sklearn.model_selection import train_test_split\n",
    "import numpy as np \n",
    "import seaborn as sns\n",
    "import pandas as pd\n",
    "from Preprocess import preprocess_data\n",
    "import matplotlib.pyplot as plt"
   ]
  },
  {
   "cell_type": "code",
   "execution_count": 151,
   "metadata": {},
   "outputs": [
    {
     "name": "stderr",
     "output_type": "stream",
     "text": [
      "c:\\Users\\karee\\Desktop\\NN\\Preprocess.py:14: SettingWithCopyWarning:\n",
      "\n",
      "\n",
      "A value is trying to be set on a copy of a slice from a DataFrame.\n",
      "Try using .loc[row_indexer,col_indexer] = value instead\n",
      "\n",
      "See the caveats in the documentation: https://pandas.pydata.org/pandas-docs/stable/user_guide/indexing.html#returning-a-view-versus-a-copy\n",
      "\n"
     ]
    }
   ],
   "source": [
    "df=pd.read_csv('Dry_Bean_Dataset.csv')\n",
    "X, y = preprocess_data(df, [\"Area\",\"Perimeter\"], [\"BOMBAY\",\"CALI\"])\n"
   ]
  },
  {
   "cell_type": "code",
   "execution_count": 152,
   "metadata": {},
   "outputs": [],
   "source": [
    "X_train, X_test, y_train, y_test = train_test_split(X, y, test_size=0.4, stratify=y, random_state=41)\n"
   ]
  },
  {
   "cell_type": "code",
   "execution_count": 153,
   "metadata": {},
   "outputs": [
    {
     "name": "stdout",
     "output_type": "stream",
     "text": [
      "[[0.37454012]\n",
      " [0.95071431]\n",
      " [0.73199394]]\n"
     ]
    }
   ],
   "source": [
    "model = Adaline.Adaline(random_state=42)\n",
    "model.fit(X_train, y_train,100)"
   ]
  },
  {
   "cell_type": "code",
   "execution_count": 229,
   "metadata": {},
   "outputs": [
    {
     "data": {
      "application/vnd.plotly.v1+json": {
       "config": {
        "plotlyServerURL": "https://plot.ly"
       },
       "data": [
        {
         "marker": {
          "color": [
           1,
           -1,
           1,
           -1,
           -1,
           -1,
           1,
           -1,
           -1,
           -1,
           1,
           -1,
           1,
           1,
           1,
           1,
           1,
           -1,
           1,
           -1,
           -1,
           -1,
           1,
           -1,
           1,
           1,
           -1,
           1,
           -1,
           -1,
           1,
           -1,
           -1,
           -1,
           1,
           -1,
           1,
           1,
           1,
           1
          ]
         },
         "mode": "markers",
         "showlegend": false,
         "type": "scatter",
         "x": [
          1.121749849887689,
          -0.9029765279236213,
          0.8674627104447298,
          -0.9336519693735054,
          -1.2386394784448331,
          -0.9684747305074137,
          0.9352677062255536,
          -1.242615015656738,
          -0.9683765690947741,
          -0.9645728143549885,
          0.8898189721734052,
          -0.9758122961022261,
          1.1759349496647642,
          0.5127564458714299,
          0.8862606209652187,
          0.9232183928240391,
          1.0686445256496497,
          -1.1508095544855248,
          1.0512208749061154,
          -0.9600819297267255,
          -1.0919617876080672,
          -0.9696526674590893,
          0.8164433162252824,
          -1.0257028340763175,
          1.1764502970811224,
          1.0115145834933854,
          -0.938241015414408,
          1.0434415829544248,
          -1.0174327350614287,
          -0.9063140159533686,
          1.1136269929917597,
          -0.9334556465482261,
          -0.9946592873290349,
          -0.9784135735371762,
          1.0045696635491317,
          -0.9509038376449201,
          0.9294025618203358,
          1.1000070969880111,
          1.1647690889770064,
          1.005551277675528
         ],
         "xaxis": "x2",
         "y": [
          1.1459231897122635,
          -0.833484183692005,
          0.8841429912032669,
          -0.922247336710447,
          -1.459469213119475,
          -1.019101229451278,
          0.9785376555958305,
          -1.4446935857947107,
          -0.967773447006135,
          -0.972035569283528,
          0.7530827311734357,
          -0.925954410744491,
          1.2691317453945787,
          0.469651599726808,
          0.8434502572164478,
          0.8902404189860395,
          1.0221352771044092,
          -1.3262900462920422,
          1.0305784927185604,
          -0.9984591068245514,
          -1.193074416441324,
          -0.9201973045123855,
          0.8057677483742121,
          -1.1441856051092898,
          1.2640836423930273,
          0.8696063992533757,
          -0.950814089731262,
          1.0753955997836941,
          -1.0137168563460928,
          -0.7759617387353281,
          1.1866685925104958,
          -0.9818238653122175,
          -0.9370513241644333,
          -0.9299005201534082,
          1.1453802958100099,
          -0.9258531245686976,
          0.9553431213391061,
          1.116562353073227,
          1.033941193754907,
          1.122461259951444
         ],
         "yaxis": "y2"
        },
        {
         "showlegend": false,
         "type": "scatter",
         "x": [
          -1.5,
          -1.435897435897436,
          -1.3717948717948718,
          -1.3076923076923077,
          -1.2435897435897436,
          -1.1794871794871795,
          -1.1153846153846154,
          -1.0512820512820513,
          -0.9871794871794872,
          -0.9230769230769231,
          -0.858974358974359,
          -0.7948717948717949,
          -0.7307692307692308,
          -0.6666666666666667,
          -0.6025641025641026,
          -0.5384615384615385,
          -0.47435897435897445,
          -0.41025641025641035,
          -0.34615384615384626,
          -0.28205128205128216,
          -0.21794871794871806,
          -0.15384615384615397,
          -0.08974358974358987,
          -0.025641025641025772,
          0.038461538461538325,
          0.10256410256410242,
          0.16666666666666652,
          0.23076923076923062,
          0.2948717948717947,
          0.3589743589743588,
          0.4230769230769229,
          0.487179487179487,
          0.5512820512820511,
          0.615384615384615,
          0.6794871794871793,
          0.7435897435897436,
          0.8076923076923075,
          0.8717948717948714,
          0.9358974358974357,
          1
         ],
         "xaxis": "x2",
         "y": [
          0.7679080710099427,
          0.7020863618473762,
          0.6362646526848097,
          0.5704429435222432,
          0.5046212343596768,
          0.4387995251971102,
          0.37297781603454366,
          0.3071561068719771,
          0.24133439770941068,
          0.17551268854684426,
          0.10969097938427762,
          0.04386927022171106,
          -0.0219524389408555,
          -0.08777414810342192,
          -0.15359585726598848,
          -0.21941756642855492,
          -0.2852392755911215,
          -0.3510609847536881,
          -0.4168826939162545,
          -0.48270440307882106,
          -0.5485261122413875,
          -0.614347821403954,
          -0.6801695305665206,
          -0.7459912397290871,
          -0.8118129488916537,
          -0.8776346580542201,
          -0.9434563672167867,
          -1.0092780763793532,
          -1.0750997855419198,
          -1.1409214947044863,
          -1.2067432038670527,
          -1.2725649130296193,
          -1.3383866221921858,
          -1.4042083313547522,
          -1.4700300405173188,
          -1.5358517496798851,
          -1.6016734588424517,
          -1.6674951680050183,
          -1.7333168771675849,
          -1.7991385863301514
         ],
         "yaxis": "y2"
        },
        {
         "colorscale": [
          [
           0,
           "rgb(255,255,217)"
          ],
          [
           0.125,
           "rgb(237,248,177)"
          ],
          [
           0.25,
           "rgb(199,233,180)"
          ],
          [
           0.375,
           "rgb(127,205,187)"
          ],
          [
           0.5,
           "rgb(65,182,196)"
          ],
          [
           0.625,
           "rgb(29,145,192)"
          ],
          [
           0.75,
           "rgb(34,94,168)"
          ],
          [
           0.875,
           "rgb(37,52,148)"
          ],
          [
           1,
           "rgb(8,29,88)"
          ]
         ],
         "type": "heatmap",
         "xaxis": "x3",
         "yaxis": "y3",
         "z": [
          [
           20,
           0
          ],
          [
           0,
           20
          ]
         ]
        }
       ],
       "layout": {
        "annotations": [
         {
          "font": {
           "size": 15
          },
          "showarrow": false,
          "text": "This is the first line of text.",
          "x": 0.5,
          "xanchor": "center",
          "xref": "x",
          "y": -1,
          "yanchor": "top",
          "yref": "y"
         },
         {
          "font": {
           "size": 15
          },
          "showarrow": false,
          "text": "This is the second line of text.",
          "x": 0.5,
          "xanchor": "center",
          "xref": "x",
          "y": -3,
          "yanchor": "top",
          "yref": "y"
         },
         {
          "font": {
           "size": 15
          },
          "showarrow": false,
          "text": "This is the third line of text.",
          "x": 0.5,
          "xanchor": "center",
          "xref": "x",
          "y": -5,
          "yanchor": "top",
          "yref": "y"
         },
         {
          "font": {
           "size": 15
          },
          "showarrow": false,
          "text": "This is the fourth line of text.",
          "x": 0.5,
          "xanchor": "center",
          "xref": "x",
          "y": -7,
          "yanchor": "top",
          "yref": "y"
         }
        ],
        "font": {
         "color": "white"
        },
        "height": 700,
        "paper_bgcolor": "rgb(17,17,17)",
        "plot_bgcolor": "rgb(17,17,17)",
        "template": {
         "data": {
          "bar": [
           {
            "error_x": {
             "color": "#2a3f5f"
            },
            "error_y": {
             "color": "#2a3f5f"
            },
            "marker": {
             "line": {
              "color": "#E5ECF6",
              "width": 0.5
             },
             "pattern": {
              "fillmode": "overlay",
              "size": 10,
              "solidity": 0.2
             }
            },
            "type": "bar"
           }
          ],
          "barpolar": [
           {
            "marker": {
             "line": {
              "color": "#E5ECF6",
              "width": 0.5
             },
             "pattern": {
              "fillmode": "overlay",
              "size": 10,
              "solidity": 0.2
             }
            },
            "type": "barpolar"
           }
          ],
          "carpet": [
           {
            "aaxis": {
             "endlinecolor": "#2a3f5f",
             "gridcolor": "white",
             "linecolor": "white",
             "minorgridcolor": "white",
             "startlinecolor": "#2a3f5f"
            },
            "baxis": {
             "endlinecolor": "#2a3f5f",
             "gridcolor": "white",
             "linecolor": "white",
             "minorgridcolor": "white",
             "startlinecolor": "#2a3f5f"
            },
            "type": "carpet"
           }
          ],
          "choropleth": [
           {
            "colorbar": {
             "outlinewidth": 0,
             "ticks": ""
            },
            "type": "choropleth"
           }
          ],
          "contour": [
           {
            "colorbar": {
             "outlinewidth": 0,
             "ticks": ""
            },
            "colorscale": [
             [
              0,
              "#0d0887"
             ],
             [
              0.1111111111111111,
              "#46039f"
             ],
             [
              0.2222222222222222,
              "#7201a8"
             ],
             [
              0.3333333333333333,
              "#9c179e"
             ],
             [
              0.4444444444444444,
              "#bd3786"
             ],
             [
              0.5555555555555556,
              "#d8576b"
             ],
             [
              0.6666666666666666,
              "#ed7953"
             ],
             [
              0.7777777777777778,
              "#fb9f3a"
             ],
             [
              0.8888888888888888,
              "#fdca26"
             ],
             [
              1,
              "#f0f921"
             ]
            ],
            "type": "contour"
           }
          ],
          "contourcarpet": [
           {
            "colorbar": {
             "outlinewidth": 0,
             "ticks": ""
            },
            "type": "contourcarpet"
           }
          ],
          "heatmap": [
           {
            "colorbar": {
             "outlinewidth": 0,
             "ticks": ""
            },
            "colorscale": [
             [
              0,
              "#0d0887"
             ],
             [
              0.1111111111111111,
              "#46039f"
             ],
             [
              0.2222222222222222,
              "#7201a8"
             ],
             [
              0.3333333333333333,
              "#9c179e"
             ],
             [
              0.4444444444444444,
              "#bd3786"
             ],
             [
              0.5555555555555556,
              "#d8576b"
             ],
             [
              0.6666666666666666,
              "#ed7953"
             ],
             [
              0.7777777777777778,
              "#fb9f3a"
             ],
             [
              0.8888888888888888,
              "#fdca26"
             ],
             [
              1,
              "#f0f921"
             ]
            ],
            "type": "heatmap"
           }
          ],
          "heatmapgl": [
           {
            "colorbar": {
             "outlinewidth": 0,
             "ticks": ""
            },
            "colorscale": [
             [
              0,
              "#0d0887"
             ],
             [
              0.1111111111111111,
              "#46039f"
             ],
             [
              0.2222222222222222,
              "#7201a8"
             ],
             [
              0.3333333333333333,
              "#9c179e"
             ],
             [
              0.4444444444444444,
              "#bd3786"
             ],
             [
              0.5555555555555556,
              "#d8576b"
             ],
             [
              0.6666666666666666,
              "#ed7953"
             ],
             [
              0.7777777777777778,
              "#fb9f3a"
             ],
             [
              0.8888888888888888,
              "#fdca26"
             ],
             [
              1,
              "#f0f921"
             ]
            ],
            "type": "heatmapgl"
           }
          ],
          "histogram": [
           {
            "marker": {
             "pattern": {
              "fillmode": "overlay",
              "size": 10,
              "solidity": 0.2
             }
            },
            "type": "histogram"
           }
          ],
          "histogram2d": [
           {
            "colorbar": {
             "outlinewidth": 0,
             "ticks": ""
            },
            "colorscale": [
             [
              0,
              "#0d0887"
             ],
             [
              0.1111111111111111,
              "#46039f"
             ],
             [
              0.2222222222222222,
              "#7201a8"
             ],
             [
              0.3333333333333333,
              "#9c179e"
             ],
             [
              0.4444444444444444,
              "#bd3786"
             ],
             [
              0.5555555555555556,
              "#d8576b"
             ],
             [
              0.6666666666666666,
              "#ed7953"
             ],
             [
              0.7777777777777778,
              "#fb9f3a"
             ],
             [
              0.8888888888888888,
              "#fdca26"
             ],
             [
              1,
              "#f0f921"
             ]
            ],
            "type": "histogram2d"
           }
          ],
          "histogram2dcontour": [
           {
            "colorbar": {
             "outlinewidth": 0,
             "ticks": ""
            },
            "colorscale": [
             [
              0,
              "#0d0887"
             ],
             [
              0.1111111111111111,
              "#46039f"
             ],
             [
              0.2222222222222222,
              "#7201a8"
             ],
             [
              0.3333333333333333,
              "#9c179e"
             ],
             [
              0.4444444444444444,
              "#bd3786"
             ],
             [
              0.5555555555555556,
              "#d8576b"
             ],
             [
              0.6666666666666666,
              "#ed7953"
             ],
             [
              0.7777777777777778,
              "#fb9f3a"
             ],
             [
              0.8888888888888888,
              "#fdca26"
             ],
             [
              1,
              "#f0f921"
             ]
            ],
            "type": "histogram2dcontour"
           }
          ],
          "mesh3d": [
           {
            "colorbar": {
             "outlinewidth": 0,
             "ticks": ""
            },
            "type": "mesh3d"
           }
          ],
          "parcoords": [
           {
            "line": {
             "colorbar": {
              "outlinewidth": 0,
              "ticks": ""
             }
            },
            "type": "parcoords"
           }
          ],
          "pie": [
           {
            "automargin": true,
            "type": "pie"
           }
          ],
          "scatter": [
           {
            "fillpattern": {
             "fillmode": "overlay",
             "size": 10,
             "solidity": 0.2
            },
            "type": "scatter"
           }
          ],
          "scatter3d": [
           {
            "line": {
             "colorbar": {
              "outlinewidth": 0,
              "ticks": ""
             }
            },
            "marker": {
             "colorbar": {
              "outlinewidth": 0,
              "ticks": ""
             }
            },
            "type": "scatter3d"
           }
          ],
          "scattercarpet": [
           {
            "marker": {
             "colorbar": {
              "outlinewidth": 0,
              "ticks": ""
             }
            },
            "type": "scattercarpet"
           }
          ],
          "scattergeo": [
           {
            "marker": {
             "colorbar": {
              "outlinewidth": 0,
              "ticks": ""
             }
            },
            "type": "scattergeo"
           }
          ],
          "scattergl": [
           {
            "marker": {
             "colorbar": {
              "outlinewidth": 0,
              "ticks": ""
             }
            },
            "type": "scattergl"
           }
          ],
          "scattermapbox": [
           {
            "marker": {
             "colorbar": {
              "outlinewidth": 0,
              "ticks": ""
             }
            },
            "type": "scattermapbox"
           }
          ],
          "scatterpolar": [
           {
            "marker": {
             "colorbar": {
              "outlinewidth": 0,
              "ticks": ""
             }
            },
            "type": "scatterpolar"
           }
          ],
          "scatterpolargl": [
           {
            "marker": {
             "colorbar": {
              "outlinewidth": 0,
              "ticks": ""
             }
            },
            "type": "scatterpolargl"
           }
          ],
          "scatterternary": [
           {
            "marker": {
             "colorbar": {
              "outlinewidth": 0,
              "ticks": ""
             }
            },
            "type": "scatterternary"
           }
          ],
          "surface": [
           {
            "colorbar": {
             "outlinewidth": 0,
             "ticks": ""
            },
            "colorscale": [
             [
              0,
              "#0d0887"
             ],
             [
              0.1111111111111111,
              "#46039f"
             ],
             [
              0.2222222222222222,
              "#7201a8"
             ],
             [
              0.3333333333333333,
              "#9c179e"
             ],
             [
              0.4444444444444444,
              "#bd3786"
             ],
             [
              0.5555555555555556,
              "#d8576b"
             ],
             [
              0.6666666666666666,
              "#ed7953"
             ],
             [
              0.7777777777777778,
              "#fb9f3a"
             ],
             [
              0.8888888888888888,
              "#fdca26"
             ],
             [
              1,
              "#f0f921"
             ]
            ],
            "type": "surface"
           }
          ],
          "table": [
           {
            "cells": {
             "fill": {
              "color": "#EBF0F8"
             },
             "line": {
              "color": "white"
             }
            },
            "header": {
             "fill": {
              "color": "#C8D4E3"
             },
             "line": {
              "color": "white"
             }
            },
            "type": "table"
           }
          ]
         },
         "layout": {
          "annotationdefaults": {
           "arrowcolor": "#2a3f5f",
           "arrowhead": 0,
           "arrowwidth": 1
          },
          "autotypenumbers": "strict",
          "coloraxis": {
           "colorbar": {
            "outlinewidth": 0,
            "ticks": ""
           }
          },
          "colorscale": {
           "diverging": [
            [
             0,
             "#8e0152"
            ],
            [
             0.1,
             "#c51b7d"
            ],
            [
             0.2,
             "#de77ae"
            ],
            [
             0.3,
             "#f1b6da"
            ],
            [
             0.4,
             "#fde0ef"
            ],
            [
             0.5,
             "#f7f7f7"
            ],
            [
             0.6,
             "#e6f5d0"
            ],
            [
             0.7,
             "#b8e186"
            ],
            [
             0.8,
             "#7fbc41"
            ],
            [
             0.9,
             "#4d9221"
            ],
            [
             1,
             "#276419"
            ]
           ],
           "sequential": [
            [
             0,
             "#0d0887"
            ],
            [
             0.1111111111111111,
             "#46039f"
            ],
            [
             0.2222222222222222,
             "#7201a8"
            ],
            [
             0.3333333333333333,
             "#9c179e"
            ],
            [
             0.4444444444444444,
             "#bd3786"
            ],
            [
             0.5555555555555556,
             "#d8576b"
            ],
            [
             0.6666666666666666,
             "#ed7953"
            ],
            [
             0.7777777777777778,
             "#fb9f3a"
            ],
            [
             0.8888888888888888,
             "#fdca26"
            ],
            [
             1,
             "#f0f921"
            ]
           ],
           "sequentialminus": [
            [
             0,
             "#0d0887"
            ],
            [
             0.1111111111111111,
             "#46039f"
            ],
            [
             0.2222222222222222,
             "#7201a8"
            ],
            [
             0.3333333333333333,
             "#9c179e"
            ],
            [
             0.4444444444444444,
             "#bd3786"
            ],
            [
             0.5555555555555556,
             "#d8576b"
            ],
            [
             0.6666666666666666,
             "#ed7953"
            ],
            [
             0.7777777777777778,
             "#fb9f3a"
            ],
            [
             0.8888888888888888,
             "#fdca26"
            ],
            [
             1,
             "#f0f921"
            ]
           ]
          },
          "colorway": [
           "#636efa",
           "#EF553B",
           "#00cc96",
           "#ab63fa",
           "#FFA15A",
           "#19d3f3",
           "#FF6692",
           "#B6E880",
           "#FF97FF",
           "#FECB52"
          ],
          "font": {
           "color": "#2a3f5f"
          },
          "geo": {
           "bgcolor": "white",
           "lakecolor": "white",
           "landcolor": "#E5ECF6",
           "showlakes": true,
           "showland": true,
           "subunitcolor": "white"
          },
          "hoverlabel": {
           "align": "left"
          },
          "hovermode": "closest",
          "mapbox": {
           "style": "light"
          },
          "paper_bgcolor": "white",
          "plot_bgcolor": "#E5ECF6",
          "polar": {
           "angularaxis": {
            "gridcolor": "white",
            "linecolor": "white",
            "ticks": ""
           },
           "bgcolor": "#E5ECF6",
           "radialaxis": {
            "gridcolor": "white",
            "linecolor": "white",
            "ticks": ""
           }
          },
          "scene": {
           "xaxis": {
            "backgroundcolor": "#E5ECF6",
            "gridcolor": "white",
            "gridwidth": 2,
            "linecolor": "white",
            "showbackground": true,
            "ticks": "",
            "zerolinecolor": "white"
           },
           "yaxis": {
            "backgroundcolor": "#E5ECF6",
            "gridcolor": "white",
            "gridwidth": 2,
            "linecolor": "white",
            "showbackground": true,
            "ticks": "",
            "zerolinecolor": "white"
           },
           "zaxis": {
            "backgroundcolor": "#E5ECF6",
            "gridcolor": "white",
            "gridwidth": 2,
            "linecolor": "white",
            "showbackground": true,
            "ticks": "",
            "zerolinecolor": "white"
           }
          },
          "shapedefaults": {
           "line": {
            "color": "#2a3f5f"
           }
          },
          "ternary": {
           "aaxis": {
            "gridcolor": "white",
            "linecolor": "white",
            "ticks": ""
           },
           "baxis": {
            "gridcolor": "white",
            "linecolor": "white",
            "ticks": ""
           },
           "bgcolor": "#E5ECF6",
           "caxis": {
            "gridcolor": "white",
            "linecolor": "white",
            "ticks": ""
           }
          },
          "title": {
           "x": 0.05
          },
          "xaxis": {
           "automargin": true,
           "gridcolor": "white",
           "linecolor": "white",
           "ticks": "",
           "title": {
            "standoff": 15
           },
           "zerolinecolor": "white",
           "zerolinewidth": 2
          },
          "yaxis": {
           "automargin": true,
           "gridcolor": "white",
           "linecolor": "white",
           "ticks": "",
           "title": {
            "standoff": 15
           },
           "zerolinecolor": "white",
           "zerolinewidth": 2
          }
         }
        },
        "title": {
         "font": {
          "size": 30
         },
         "text": "Visual Results",
         "x": 0.5,
         "y": 0.95
        },
        "width": 1600,
        "xaxis": {
         "anchor": "y",
         "domain": [
          0,
          0.2888888888888889
         ],
         "visible": false
        },
        "xaxis2": {
         "anchor": "y2",
         "domain": [
          0.35555555555555557,
          0.6444444444444445
         ]
        },
        "xaxis3": {
         "anchor": "y3",
         "domain": [
          0.7111111111111111,
          1
         ]
        },
        "yaxis": {
         "anchor": "x",
         "domain": [
          0,
          1
         ],
         "visible": false
        },
        "yaxis2": {
         "anchor": "x2",
         "domain": [
          0,
          1
         ]
        },
        "yaxis3": {
         "anchor": "x3",
         "domain": [
          0,
          1
         ]
        }
       }
      }
     },
     "metadata": {},
     "output_type": "display_data"
    }
   ],
   "source": [
    "    def dashboard(self,X_test,y_test,y_pred):\n",
    "        #Line and Scatter\n",
    "        trace_scatter= go.Scatter(x=X_test.iloc[:,0], y=X_test.iloc[:,1],mode='markers',showlegend=False,marker=dict(color=y_test))\n",
    "        x=np.linspace(-1.5, 1, 40)\n",
    "        trace_line=go.Scatter(x=x,y=((-self.weight[1][0] * x - self.weight[0][0] )/self.weight[2][0]),showlegend=False)\n",
    "\n",
    "        #Confusion Matrix Heatmap\n",
    "        conf=self.confusion_matrix(y_test,y_pred.flatten(),show=False)\n",
    "        trace_heat =go.Heatmap(z=conf.T,colorscale='ylgnbu')\n",
    "\n",
    "        #Report\n",
    "        report=self.classification_report(y_test,y_pred.flatten())\n",
    "        report=report.split('\\n')\n",
    "        fig = make_subplots(rows=1, cols=3,subplot_titles=('Classification Matrix', 'Decision Boundry','Confusion Matrix'))\n",
    "        for i, text in enumerate(report):\n",
    "            fig.add_annotation(\n",
    "                text=text,\n",
    "                x=0.5, y=1 - (i + 1) * 2,  # Adjust y position for each line of text\n",
    "                xanchor='center', yanchor='top',\n",
    "                showarrow=False,\n",
    "                font=dict(size=15),\n",
    "                row=1,col=1\n",
    "            )\n",
    "        fig.update_xaxes(visible=False, row=1, col=1)\n",
    "        fig.update_yaxes(visible=False, row=1, col=1)\n",
    "\n",
    "\n",
    "        # Create subplots\n",
    "        # Add traces to subplots\n",
    "        fig.add_trace(trace_scatter, row=1, col=2)\n",
    "        fig.add_trace(trace_line, row=1, col=2)\n",
    "        fig.add_trace(trace_heat, row=1, col=3)\n",
    "\n",
    "        # Update layout\n",
    "        fig.update_layout(height=700, width=1600)\n",
    "        fig.update_layout(\n",
    "            title={'text': 'Visual Results', 'x':0.5, 'y':0.95},\n",
    "            title_font_size=30\n",
    "        )\n",
    "        fig.show()\n",
    "\n"
   ]
  },
  {
   "cell_type": "code",
   "execution_count": null,
   "metadata": {},
   "outputs": [],
   "source": []
  }
 ],
 "metadata": {
  "kernelspec": {
   "display_name": "Python 3",
   "language": "python",
   "name": "python3"
  },
  "language_info": {
   "codemirror_mode": {
    "name": "ipython",
    "version": 3
   },
   "file_extension": ".py",
   "mimetype": "text/x-python",
   "name": "python",
   "nbconvert_exporter": "python",
   "pygments_lexer": "ipython3",
   "version": "3.10.2"
  }
 },
 "nbformat": 4,
 "nbformat_minor": 2
}
